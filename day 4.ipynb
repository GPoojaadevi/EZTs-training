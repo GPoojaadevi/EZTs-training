{
 "cells": [
  {
   "cell_type": "code",
   "execution_count": 1,
   "id": "fc28891e-9e32-4e97-977a-6b23527b8946",
   "metadata": {},
   "outputs": [
    {
     "name": "stdin",
     "output_type": "stream",
     "text": [
      "enter the meassage: 5\n"
     ]
    },
    {
     "name": "stdout",
     "output_type": "stream",
     "text": [
      "valid message\n"
     ]
    }
   ],
   "source": [
    "m=int(input(\"enter the meassage:\"))\n",
    "flag=0\n",
    "for i in range(2,m):   # or for i in range((2,//m)+1)\n",
    "    if m%i==0:\n",
    "        flag=1\n",
    "        break\n",
    "\n",
    "if flag==0:\n",
    "    print(\"valid message\")\n",
    "else:\n",
    "    print(\"invalid message\")\n"
   ]
  },
  {
   "cell_type": "code",
   "execution_count": 3,
   "id": "a5e2d26e-363d-47e9-9556-50f772a07b7f",
   "metadata": {},
   "outputs": [
    {
     "name": "stdin",
     "output_type": "stream",
     "text": [
      "enter the number: 5\n"
     ]
    },
    {
     "name": "stdout",
     "output_type": "stream",
     "text": [
      "0\n",
      "1\n",
      "1\n",
      "2\n",
      "2\n"
     ]
    }
   ],
   "source": [
    "#fiboacci series\n",
    "n=int(input(\"enter the number:\"))\n",
    "a=0\n",
    "b=1\n",
    "c=a+b\n",
    "if n==1:\n",
    "    print(a)\n",
    "elif n==2:\n",
    "    print(a)\n",
    "    print(b)\n",
    "else:\n",
    "    print(a)\n",
    "    print(b)\n",
    "for i in range(2,n):\n",
    "    print(c)\n",
    "    a=b\n",
    "    b=a\n",
    "    c=a+b"
   ]
  },
  {
   "cell_type": "code",
   "execution_count": 4,
   "id": "655aa764-6ab2-4a7a-bab8-4b9eeddc3f49",
   "metadata": {},
   "outputs": [
    {
     "name": "stdin",
     "output_type": "stream",
     "text": [
      "enter the number 6\n"
     ]
    },
    {
     "name": "stdout",
     "output_type": "stream",
     "text": [
      "(7, 0, False)\n"
     ]
    }
   ],
   "source": [
    "# Find the smallest prime number larger than a given integer N.\n",
    "def check_prime(m):\n",
    "    flag=0\n",
    "    if m<1:\n",
    "        flag=1 \n",
    "    elif m==1:\n",
    "        flag=0\n",
    "    else:\n",
    "        for i in range(2,(m//2)+1):\n",
    "            if m%i==0:\n",
    "                flag=1\n",
    "                break\n",
    "    if(flag==0):\n",
    "        return 1   #if m is prime\n",
    "    else:\n",
    "        return 0   #if m is not prime\n",
    "\n",
    "\n",
    "\n",
    "result=[]\n",
    "N=int(input(\"enter the number\"))\n",
    "flag=0\n",
    "k=N+1\n",
    "while flag<1:\n",
    "    flag=check_prime(k)\n",
    "    if flag==1:\n",
    "        result.append(k)   #if number is prime add the number to list\n",
    "    else:\n",
    "        k=k+1#if number N is not a prime increment N\n",
    "#Calculate the sum of all prime numbers between N and the smallest prime number larger than  N. \n",
    "sum=0\n",
    "for i in range(N+1,k):\n",
    "    sum+=i\n",
    "result.append(sum)\n",
    "#Determine if the product of the smallest prime number larger than N and the next immediate prime number is also a prime. \n",
    "p1=k\n",
    "flag=0\n",
    "k=p1+1\n",
    "while flag<1:\n",
    "    flag=check_prime(k)\n",
    "    if flag==1:\n",
    "        p2=k\n",
    "    else:\n",
    "        k=k+1\n",
    "\n",
    "       \n",
    "p3=p1*p2\n",
    "flag=check_prime(p3)\n",
    "if flag==0:\n",
    "    result.append(False)\n",
    "else:\n",
    "    result.append(True)\n",
    "prime_key=tuple(result)\n",
    "print(prime_key)\n",
    "\n",
    "\n"
   ]
  },
  {
   "cell_type": "code",
   "execution_count": null,
   "id": "a323a49c-9429-4ecb-83b4-c6a2b956476d",
   "metadata": {},
   "outputs": [],
   "source": []
  }
 ],
 "metadata": {
  "kernelspec": {
   "display_name": "Python 3 (ipykernel)",
   "language": "python",
   "name": "python3"
  },
  "language_info": {
   "codemirror_mode": {
    "name": "ipython",
    "version": 3
   },
   "file_extension": ".py",
   "mimetype": "text/x-python",
   "name": "python",
   "nbconvert_exporter": "python",
   "pygments_lexer": "ipython3",
   "version": "3.11.7"
  }
 },
 "nbformat": 4,
 "nbformat_minor": 5
}
