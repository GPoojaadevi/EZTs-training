{
 "cells": [
  {
   "cell_type": "code",
   "execution_count": 1,
   "id": "0e8c1f7d-ef6b-4749-86a2-5e7b9294cfc6",
   "metadata": {},
   "outputs": [
    {
     "name": "stdout",
     "output_type": "stream",
     "text": [
      "4\n",
      "8\n",
      "6\n",
      "3\n",
      "5\n",
      "7\n",
      "2\n",
      "1\n"
     ]
    }
   ],
   "source": [
    "A={1:[(1,2),(1,3)],\n",
    "   2:[(2,1),(2,7)],\n",
    "   3:[(3,1),(3,6),(3,5)],\n",
    "   4:[(4,7),(4,8)],\n",
    "   5:[(5,3),(5,7)],\n",
    "   6:[(6,3),(6,8)],\n",
    "   7:[(7,2),(7,5),(7,4)],\n",
    "   8:[(8,4),(8,6)]\n",
    "  }\n",
    "v={1:'f',2:'f',3:'f',4:'f',5:'f',6:'f',7:'f',8:'f'}\n",
    "s=[]\n",
    "e=1\n",
    "def dfs(A,v,s,e):\n",
    "    if v[e]=='f':\n",
    "        s.append(e)\n",
    "        v[e]='t'\n",
    "    else:\n",
    "        return\n",
    "    for i in A[e]:\n",
    "        dfs(A,v,s,i[1])\n",
    "    print(s.pop())\n",
    "dfs(A,v,s,e)\n",
    "\n"
   ]
  },
  {
   "cell_type": "markdown",
   "id": "1048be00-207d-48ca-86e7-b179cdaf9619",
   "metadata": {},
   "source": [
    "# bfs\n"
   ]
  },
  {
   "cell_type": "code",
   "execution_count": 2,
   "id": "1583f7a6-50cb-4bad-8784-f5d5e22b16c2",
   "metadata": {},
   "outputs": [
    {
     "name": "stdout",
     "output_type": "stream",
     "text": [
      "1\n",
      "2\n",
      "3\n",
      "7\n",
      "6\n",
      "5\n",
      "4\n",
      "8\n"
     ]
    }
   ],
   "source": [
    "def BFS(G,e):\n",
    "    Q=[e]\n",
    "    V={}\n",
    "    for i in G.keys():\n",
    "        V[i]=False\n",
    "    V[e]=True   \n",
    "    while len(Q)!=0:\n",
    "        curr=Q.pop(0)\n",
    "        print(curr)\n",
    "        for i in G[curr]:\n",
    "            if V[i[1]]==False:\n",
    "                Q.append(i[1])\n",
    "                V[i[1]]=True\n",
    "G= {\n",
    "    1: [(1, 2, 0), (1, 3, 0)],\n",
    "    2: [(2, 1, 0), (2, 7, 0)],\n",
    "    3: [(3, 1, 0), (3, 6, 0), (3, 5, 0)],\n",
    "    4: [(4, 7, 0), (4, 8, 0)],\n",
    "    5: [(5, 3, 0), (5, 7, 0)],\n",
    "    6: [(6, 3, 0), (6, 8, 0)],\n",
    "    7: [(7, 2, 0), (7, 5, 0), (7, 4, 0)],\n",
    "    8: [(8, 4, 0), (8, 6, 0), (8, 8, 0)]\n",
    "}\n",
    "BFS(G,1)"
   ]
  },
  {
   "cell_type": "markdown",
   "id": "be3f98a5-fbe4-4871-b232-c5b38c427a05",
   "metadata": {},
   "source": [
    "# binary search tree"
   ]
  },
  {
   "cell_type": "code",
   "execution_count": 1,
   "id": "15097171-7d76-4dcb-90ad-a020ae4d3cde",
   "metadata": {},
   "outputs": [
    {
     "name": "stdout",
     "output_type": "stream",
     "text": [
      "Sorted list:\n",
      "1 2 3 4 5 6 7 8 9 "
     ]
    }
   ],
   "source": [
    "class node:\n",
    "    def __init__(self, data): \n",
    "        self.value = data\n",
    "        self.left = None\n",
    "        self.right = None\n",
    "        \n",
    "def ins_bst(root, val):\n",
    "    if root is None:\n",
    "        return node(val)\n",
    "        \n",
    "    if val < root.value:\n",
    "        root.left = ins_bst(root.left, val)\n",
    "        \n",
    "    if val > root.value:\n",
    "        root.right = ins_bst(root.right, val)\n",
    "    \n",
    "    return root\n",
    "\n",
    "def inorder(root):\n",
    "    if root:\n",
    "        inorder(root.left)\n",
    "        print(root.value, end=\" \")\n",
    "        inorder(root.right)\n",
    "    \n",
    "    \n",
    "E = [4, 6, 7, 3, 8, 2, 5, 9, 1]\n",
    "root = node(E.pop(0))\n",
    "\n",
    "for i in E:\n",
    "    root = ins_bst(root, i)\n",
    "    \n",
    "print(\"Sorted list:\")\n",
    "inorder(root)\n"
   ]
  },
  {
   "cell_type": "code",
   "execution_count": null,
   "id": "829c0393-e847-4c4a-b942-19eaf2834e51",
   "metadata": {},
   "outputs": [],
   "source": []
  }
 ],
 "metadata": {
  "kernelspec": {
   "display_name": "Python 3 (ipykernel)",
   "language": "python",
   "name": "python3"
  },
  "language_info": {
   "codemirror_mode": {
    "name": "ipython",
    "version": 3
   },
   "file_extension": ".py",
   "mimetype": "text/x-python",
   "name": "python",
   "nbconvert_exporter": "python",
   "pygments_lexer": "ipython3",
   "version": "3.11.7"
  }
 },
 "nbformat": 4,
 "nbformat_minor": 5
}
