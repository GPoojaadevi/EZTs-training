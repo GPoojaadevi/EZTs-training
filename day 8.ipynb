{
 "cells": [
  {
   "cell_type": "code",
   "execution_count": 2,
   "id": "ebbececc-5e24-4c75-9d7f-692668275092",
   "metadata": {},
   "outputs": [
    {
     "name": "stdin",
     "output_type": "stream",
     "text": [
      " 10 7 2 9 5 8\n"
     ]
    },
    {
     "name": "stdout",
     "output_type": "stream",
     "text": [
      "[2, 5, 7, 8, 9, 10]\n"
     ]
    }
   ],
   "source": [
    "L=list(map(int,input().split()))    #bubble sort\n",
    "n=len(L)\n",
    "for j in range(0,n):\n",
    "    for i in range(0,n-1-j):\n",
    "        if L[i]>L[i+1]:\n",
    "            L[i],L[i+1]=L[i+1],L[i]\n",
    "print(L)\n"
   ]
  },
  {
   "cell_type": "code",
   "execution_count": 9,
   "id": "8bf596a4-2ad2-4849-986f-7adb85336140",
   "metadata": {},
   "outputs": [
    {
     "name": "stdin",
     "output_type": "stream",
     "text": [
      " 10 5 6 7 8 2\n"
     ]
    },
    {
     "name": "stdout",
     "output_type": "stream",
     "text": [
      "[2, 5, 6, 7, 8, 10]\n"
     ]
    }
   ],
   "source": [
    "L=list(map(int,input().split())) \n",
    "n=len(L)\n",
    "for j in range(0,n):\n",
    "    pos=j\n",
    "    min=L[j]\n",
    "    for i in range(j,n):\n",
    "      if L[i] < min:\n",
    "          min=L[i]\n",
    "          pos=i\n",
    "    L[j],L[pos]=L[pos],L[j]\n",
    "print(L)"
   ]
  },
  {
   "cell_type": "code",
   "execution_count": 1,
   "id": "f7cd0308-06c9-4b7d-b485-66198aceff45",
   "metadata": {},
   "outputs": [
    {
     "name": "stdin",
     "output_type": "stream",
     "text": [
      " 3\n"
     ]
    },
    {
     "name": "stdout",
     "output_type": "stream",
     "text": [
      "1\n",
      "[3]\n"
     ]
    }
   ],
   "source": [
    "#recursion FAB series\n",
    "\n",
    "t=[0]\n",
    "\n",
    "def fib(n):\n",
    "    t[0]+=1\n",
    "    if n == 1:\n",
    "        return 0\n",
    "    if n == 2:\n",
    "        return 1\n",
    "    return fib(n-1)+fib(n-2)\n",
    "\n",
    "if __name__ == \"__main__\":\n",
    "    n= int(input())\n",
    "    print(fib(n))\n",
    "    print(t)"
   ]
  },
  {
   "cell_type": "code",
   "execution_count": 10,
   "id": "77305b7b-f7c1-4e93-b005-f2bd242a2e18",
   "metadata": {},
   "outputs": [
    {
     "name": "stdin",
     "output_type": "stream",
     "text": [
      " 2 8 5 1 9 7\n"
     ]
    },
    {
     "name": "stdout",
     "output_type": "stream",
     "text": [
      "0 5\n",
      "3 0 5\n",
      "0 0 2\n",
      "1 1 2\n",
      "4 4 5\n",
      "sorted array= [1, 2, 5, 7, 8, 9]\n"
     ]
    }
   ],
   "source": [
    "#L=list(map(int,input().split()))# quick sort\n",
    "def divide(l,low,High):\n",
    "    P=L[High]\n",
    "    Pi=High\n",
    "    j=low-1\n",
    "    for i in range(low,High):\n",
    "        if L[i]<=P:\n",
    "            j+=1\n",
    "            L[i],L[j]=L[j],L[i]\n",
    "    j+=1\n",
    "    L[j],L[Pi]=L[Pi],L[j]\n",
    "    Pi=j\n",
    "    return Pi\n",
    "def Quick_sort(L,low,High):\n",
    "    if low<High:\n",
    "        Pi=divide(L,low,High)\n",
    "        print(Pi,low,High)\n",
    "        Quick_sort(L,low,Pi-1)\n",
    "        Quick_sort(L,Pi+1,High)\n",
    "    return\n",
    "if __name__ ==\"__main__\":\n",
    "    L=list(map(int,input().split()))\n",
    "    low=0\n",
    "    High =len(L)-1\n",
    "    print(low,High)\n",
    "    Quick_sort(L,low,High)\n",
    "    print(\"sorted array=\",L)"
   ]
  },
  {
   "cell_type": "code",
   "execution_count": 3,
   "id": "553a0051-e4ce-4a74-a413-241284fc297c",
   "metadata": {},
   "outputs": [
    {
     "name": "stdin",
     "output_type": "stream",
     "text": [
      " 1 4 6 7 8 2 9\n"
     ]
    },
    {
     "name": "stdout",
     "output_type": "stream",
     "text": [
      "Sorted Array =  [1, 2, 4, 6, 7, 8, 9]\n"
     ]
    }
   ],
   "source": [
    "#merge sorts\n",
    "def merge(left,right):\n",
    "    i=j=0\n",
    "    temp=[]\n",
    "\n",
    "    while i<len(left) and j<len(right):\n",
    "        if left[i]<right[j]:\n",
    "            temp.append(left[i])\n",
    "            i+=1\n",
    "        else:\n",
    "            temp.append(right[j])\n",
    "            j+=1\n",
    "            \n",
    "    while i<len(left):\n",
    "        temp.append(left[i])\n",
    "        i+=1\n",
    "        \n",
    "    while j<len(right):\n",
    "        temp.append(right[j])\n",
    "        j+=1\n",
    "\n",
    "    return temp\n",
    "\n",
    "def mergesort(L):\n",
    "    if len(L) <= 1:\n",
    "        return L\n",
    "        \n",
    "    mid = len(L)//2\n",
    "    left=L[:mid] \n",
    "    right=L[mid:]\n",
    "    \n",
    "    left_sorted = mergesort(left)\n",
    "    right_sorted = mergesort(right)\n",
    "    \n",
    "    return merge(left_sorted,right_sorted)\n",
    "\n",
    "\n",
    "if __name__==\"__main__\":\n",
    "    L=list(map(int,input().split())) # 4 7 8 3 2 9 1 5\n",
    "    sorted=mergesort(L)\n",
    "\n",
    "    print(\"Sorted Array = \",sorted)"
   ]
  },
  {
   "cell_type": "code",
   "execution_count": null,
   "id": "10958216-9587-4d22-b7f8-6e23c27c29ef",
   "metadata": {},
   "outputs": [],
   "source": []
  }
 ],
 "metadata": {
  "kernelspec": {
   "display_name": "Python 3 (ipykernel)",
   "language": "python",
   "name": "python3"
  },
  "language_info": {
   "codemirror_mode": {
    "name": "ipython",
    "version": 3
   },
   "file_extension": ".py",
   "mimetype": "text/x-python",
   "name": "python",
   "nbconvert_exporter": "python",
   "pygments_lexer": "ipython3",
   "version": "3.11.7"
  }
 },
 "nbformat": 4,
 "nbformat_minor": 5
}
