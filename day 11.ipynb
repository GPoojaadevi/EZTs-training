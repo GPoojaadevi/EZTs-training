{
 "cells": [
  {
   "cell_type": "markdown",
   "id": "0c418b77-87af-4806-baba-42a91d49d6c8",
   "metadata": {},
   "source": [
    "# Avl tree"
   ]
  },
  {
   "cell_type": "code",
   "execution_count": 25,
   "id": "16c2480b-d493-4654-9edd-152491dd5cdf",
   "metadata": {},
   "outputs": [
    {
     "name": "stdout",
     "output_type": "stream",
     "text": [
      "0\n",
      "7\n",
      "12\n",
      "13\n",
      "17\n",
      "19\n",
      "21\n",
      "27\n",
      "34\n",
      "38\n",
      "75\n",
      "99\n",
      "100\n",
      "134\n"
     ]
    }
   ],
   "source": [
    "class node:   #class for tree node\n",
    "   def __init__(self,data):\n",
    "       self.val=data\n",
    "       self.right=None\n",
    "       self.left=None\n",
    "       self.height=1\n",
    "\n",
    "def insert(root,super):\n",
    "    if not root:\n",
    "       return node(super)\n",
    "    if super<root.val:\n",
    "       root.left=insert(root.left,super)\n",
    "    else:\n",
    "        root.right=insert(root.right,super)\n",
    "    root.height=1+max(ght(root.left),ght(root.right))\n",
    "\n",
    "    BF=getBF(root)\n",
    "    if BF>1 and super<root.left.val:     #RR rotation\n",
    "        return rightrotate(root)\n",
    "    \n",
    "    if BF>1 and super>root.left.val:    #RL rotation\n",
    "        root.left=leftrotate(root.left)\n",
    "        return rightrotate(root)\n",
    "\n",
    "    if BF<-1 and super>root.right.val:  #LL rotation\n",
    "        return leftrotate(root)\n",
    "\n",
    "    \n",
    "    if BF<-1 and super <root.right.val:          #LR rotation\n",
    "       root.right= rightrotate(root.right)\n",
    "       return leftrotate(root)\n",
    "        \n",
    "    return root\n",
    "\n",
    "def ght(root):\n",
    "    if not root:\n",
    "       return 0\n",
    "    return root.height\n",
    "def getBF(root):\n",
    "    if not root:\n",
    "        return 0\n",
    "    return ght(root.left)-ght(root.right)\n",
    "\n",
    "def leftrotate(A):\n",
    "    B=A.right\n",
    "    temp=B.left\n",
    "\n",
    "    B.left=A\n",
    "    A.right=temp\n",
    "\n",
    "    A.height=1+max(ght(A.left),ght(A.right))\n",
    "    B.height=1+max(ght(B.left),ght(B.right))\n",
    "\n",
    "    return B\n",
    "\n",
    "def rightrotate(A):\n",
    "    B=A.left\n",
    "    temp=B.right\n",
    "\n",
    "    B.right=A\n",
    "    A.left=temp\n",
    "\n",
    "    A.height=1+max(ght(A.left),ght(A.right))\n",
    "    B.height=1+max(ght(B.left),ght(B.right))\n",
    "\n",
    "    return B\n",
    "\n",
    "def inorder(root):\n",
    "    if not root:\n",
    "        return\n",
    "    inorder(root.left)\n",
    "    print(root.val)\n",
    "    inorder(root.right)\n",
    "\n",
    "if __name__==\"__main__\":\n",
    "     VL=[19,99,75,7,21,34,38,27,134,100,0,12,17,13]\n",
    "     root=None\n",
    "     for i in VL:\n",
    "         root=insert(root,i)\n",
    "     inorder(root)\n"
   ]
  },
  {
   "cell_type": "code",
   "execution_count": 5,
   "id": "7a6e2b63-29d2-4a12-8435-cdc44b553a51",
   "metadata": {},
   "outputs": [
    {
     "name": "stdin",
     "output_type": "stream",
     "text": [
      "Enter a number:  23387993\n"
     ]
    },
    {
     "name": "stdout",
     "output_type": "stream",
     "text": [
      "Total commas used from 1 to 23387993: 99000\n"
     ]
    }
   ],
   "source": [
    "# cal the max number of commas used when printing the int from 1 to 100000\n",
    "def count_commas_up_to(n):\n",
    "    commas_count = 0\n",
    "    \n",
    "    if n >= 1000:\n",
    "        commas_count += (min(9999, n) - 1000 + 1) * 1  # Range 1,000 to 9,999\n",
    "    if n >= 10000:\n",
    "        commas_count += (min(99999, n) - 10000 + 1) * 1  # Range 10,000 to 99,999\n",
    "    if n == 100000:\n",
    "        commas_count += 1 \n",
    "    \n",
    "    return commas_count\n",
    "\n",
    "\n",
    "user_input = int(input(\"Enter a number: \"))\n",
    "total_commas = count_commas_up_to(user_input)\n",
    "print(f\"Total commas used from 1 to {user_input}: {total_commas}\")\n",
    "\n"
   ]
  },
  {
   "cell_type": "markdown",
   "id": "8afdf5a3-6a48-4b38-9016-e5ebdc8bee0e",
   "metadata": {},
   "source": [
    "# smallest positive number"
   ]
  },
  {
   "cell_type": "code",
   "execution_count": 3,
   "id": "918aaf3c-23bc-494c-8e9c-fdff11bd99c5",
   "metadata": {},
   "outputs": [
    {
     "name": "stdin",
     "output_type": "stream",
     "text": [
      "Enter a list of numbers :  -8 9 7 -3 5 1 2 4\n"
     ]
    },
    {
     "name": "stdout",
     "output_type": "stream",
     "text": [
      "The smallest positive number in the list is: 1\n"
     ]
    }
   ],
   "source": [
    "numbers = list(map(int, input(\"Enter a list of numbers : \").split()))\n",
    "positive_numbers = [num for num in numbers if num > 0]\n",
    "\n",
    "if positive_numbers:\n",
    "    print(f\"The smallest positive number in the list is: {min(positive_numbers)}\")\n",
    "else:\n",
    "    print(\"There are no positive numbers in the list.\")\n"
   ]
  },
  {
   "cell_type": "code",
   "execution_count": null,
   "id": "fff93af0-b0d9-444a-95c2-132d11dd6670",
   "metadata": {},
   "outputs": [],
   "source": [
    "\n",
    "\n",
    "\n"
   ]
  }
 ],
 "metadata": {
  "kernelspec": {
   "display_name": "Python 3 (ipykernel)",
   "language": "python",
   "name": "python3"
  },
  "language_info": {
   "codemirror_mode": {
    "name": "ipython",
    "version": 3
   },
   "file_extension": ".py",
   "mimetype": "text/x-python",
   "name": "python",
   "nbconvert_exporter": "python",
   "pygments_lexer": "ipython3",
   "version": "3.11.7"
  }
 },
 "nbformat": 4,
 "nbformat_minor": 5
}
