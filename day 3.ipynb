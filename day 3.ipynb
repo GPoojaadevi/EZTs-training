{
 "cells": [
  {
   "cell_type": "code",
   "execution_count": 2,
   "id": "fc28891e-9e32-4e97-977a-6b23527b8946",
   "metadata": {},
   "outputs": [
    {
     "name": "stdout",
     "output_type": "stream",
     "text": [
      "poojaa 21 F\n",
      "<class '__main__.INT'>\n"
     ]
    }
   ],
   "source": [
    "class INT :\n",
    "    def __init__(self,nm,ag,gn):\n",
    "        self.name = nm\n",
    "        self.age = ag\n",
    "        self.gender = gn\n",
    "\n",
    "\n",
    "st1 = INT(\"poojaa\",21,'F')\n",
    "\n",
    "print(st1.name,st1.age,st1.gender)\n",
    "\n",
    "print(type(st1))"
   ]
  },
  {
   "cell_type": "code",
   "execution_count": 3,
   "id": "4d2bb9ab-95e0-4fac-bf73-47bf4d75a90d",
   "metadata": {},
   "outputs": [
    {
     "name": "stdin",
     "output_type": "stream",
     "text": [
      "Enter your Name:  poojaa\n",
      "Enter your age:  21\n",
      "Enter Your Gender:  female\n"
     ]
    },
    {
     "name": "stdout",
     "output_type": "stream",
     "text": [
      "poojaa 21 female\n"
     ]
    }
   ],
   "source": [
    "class STD:\n",
    "    def __init__(self):\n",
    "        self.name = None\n",
    "        self.age = None\n",
    "        self.gender = None\n",
    "\n",
    "st2 = STD()\n",
    "\n",
    "st2.name = input(\"Enter your Name: \")\n",
    "st2.age = int(input(\"Enter your age: \"))\n",
    "st2.gender = input(\"Enter Your Gender: \")\n",
    "\n",
    "\n",
    "print(st2.name,st2.age,st2.gender)"
   ]
  },
  {
   "cell_type": "code",
   "execution_count": 4,
   "id": "7046ae03-cd47-4335-bce8-1cc3a987445a",
   "metadata": {},
   "outputs": [
    {
     "name": "stdout",
     "output_type": "stream",
     "text": [
      "<class 'int'>\n",
      "<class 'str'>\n",
      "<class 'float'>\n",
      "<class 'list'>\n",
      "<class 'dict'>\n"
     ]
    }
   ],
   "source": [
    "a =1\n",
    "b ='sdfg'\n",
    "c = 2.4\n",
    "d = ['sdg','sd',1,3]\n",
    "e = {1:\"sdfg\",2:\"fsfdsf\"}\n",
    "\n",
    "print(type(a))\n",
    "print(type(b))\n",
    "print(type(c))\n",
    "print(type(d))\n",
    "print(type(e))"
   ]
  },
  {
   "cell_type": "code",
   "execution_count": 5,
   "id": "d386bf66-2701-4b19-9ec0-0f94c903e5cd",
   "metadata": {},
   "outputs": [
    {
     "name": "stdout",
     "output_type": "stream",
     "text": [
      "2\n",
      "5\n"
     ]
    }
   ],
   "source": [
    "#Inheritance\n",
    "\n",
    "class A:\n",
    "    def __init__(self,a,b):\n",
    "        self.A = a\n",
    "        self.__B = b\n",
    "        \n",
    "    def printB(self):\n",
    "        print(self.__B)\n",
    "\n",
    "ob1 = A(2,5)\n",
    "\n",
    "print(ob1.A)\n",
    "ob1.printB()"
   ]
  },
  {
   "cell_type": "code",
   "execution_count": 6,
   "id": "e16b062f-eec7-4def-8bcf-8f51ba0d9f9e",
   "metadata": {},
   "outputs": [
    {
     "name": "stdin",
     "output_type": "stream",
     "text": [
      "Enter the student's name:  poojaa\n",
      "Enter the student's USN:  ec046\n",
      "Enter the marks for subject 1:  90\n",
      "Enter the marks for subject 2:  99\n",
      "Enter the marks for subject 3:  100\n",
      "Enter the marks for subject 4:  98\n",
      "Enter the marks for subject 5:  97\n"
     ]
    },
    {
     "name": "stdout",
     "output_type": "stream",
     "text": [
      "Name: poojaa\n",
      "USN: ec046\n",
      "marks[90.0, 99.0, 100.0, 98.0, 97.0]\n",
      "Percentage: 96.80%\n",
      "Grade: A\n"
     ]
    }
   ],
   "source": [
    "class Student:\n",
    "    def __init__(self, name, usn, marks):\n",
    "        self.name = name\n",
    "        self.usn = usn\n",
    "        self.marks = marks  # List of marks in 5 subjects\n",
    "        self.percentage = sum(marks)/len(marks)\n",
    "        self.grade = self.determine_grade()\n",
    "\n",
    "    \n",
    "    def determine_grade(self):\n",
    "        percentage = self.percentage\n",
    "        if percentage >= 90:\n",
    "            return 'A'\n",
    "        elif percentage >= 80:\n",
    "            return 'B'\n",
    "        elif percentage >= 70:\n",
    "            return 'C'\n",
    "        elif percentage >= 60:\n",
    "            return 'D'\n",
    "        elif percentage >= 50:\n",
    "            return 'E'\n",
    "        else:\n",
    "            return 'F'\n",
    "\n",
    "    def display_details(self):\n",
    "        print(f\"Name: {self.name}\")\n",
    "        print(f\"USN: {self.usn}\")\n",
    "        print(f\"marks{self.marks}\")\n",
    "        print(f\"Percentage: {self.percentage:.2f}%\")\n",
    "        print(f\"Grade: {self.grade}\")\n",
    "\n",
    "def get_student_details():\n",
    "    name = input(\"Enter the student's name: \")\n",
    "    usn = input(\"Enter the student's USN: \")\n",
    "    marks = []\n",
    "    for i in range(1, 6):\n",
    "        mark = float(input(f\"Enter the marks for subject {i}: \"))\n",
    "        marks.append(mark)\n",
    "    return name, usn, marks\n",
    "\n",
    "\n",
    "name, usn, marks = get_student_details()\n",
    "student = Student(name, usn, marks)\n",
    "student.display_details()"
   ]
  },
  {
   "cell_type": "code",
   "execution_count": null,
   "id": "287aff98-b691-43d7-83ce-7015b3beb24e",
   "metadata": {},
   "outputs": [],
   "source": []
  }
 ],
 "metadata": {
  "kernelspec": {
   "display_name": "Python 3 (ipykernel)",
   "language": "python",
   "name": "python3"
  },
  "language_info": {
   "codemirror_mode": {
    "name": "ipython",
    "version": 3
   },
   "file_extension": ".py",
   "mimetype": "text/x-python",
   "name": "python",
   "nbconvert_exporter": "python",
   "pygments_lexer": "ipython3",
   "version": "3.11.7"
  }
 },
 "nbformat": 4,
 "nbformat_minor": 5
}
