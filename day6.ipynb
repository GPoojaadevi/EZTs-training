{
 "cells": [
  {
   "cell_type": "code",
   "execution_count": 1,
   "id": "79f12b34-d41b-47cd-81da-357284e45e9f",
   "metadata": {},
   "outputs": [
    {
     "name": "stdin",
     "output_type": "stream",
     "text": [
      " hello\n"
     ]
    },
    {
     "name": "stdout",
     "output_type": "stream",
     "text": [
      "['E', 'O']\n"
     ]
    }
   ],
   "source": [
    "S= input()\n",
    "dic = {'A':0,'E':0,'I':0,'O':0,'U':0}\n",
    "for i in S:\n",
    "    if i == 'a' or i == 'A':\n",
    "        dic['A'] += 1\n",
    "    elif i == 'e' or i == 'E':\n",
    "        dic['E'] += 1\n",
    "    elif i == 'i' or i == 'I':\n",
    "        dic['I'] += 1\n",
    "    elif i == 'o' or i == 'O':\n",
    "        dic['O'] += 1\n",
    "    elif i == 'u' or i == 'U':\n",
    "        dic['U'] += 1\n",
    "\n",
    "x=max(dic.values())\n",
    "result =[]\n",
    "for i,j in dic.items():\n",
    "    if j == x:\n",
    "        result.append(i)\n",
    "\n",
    "print(result)"
   ]
  },
  {
   "cell_type": "code",
   "execution_count": 2,
   "id": "96766a1b-b80f-487d-9009-946ec7fbe7af",
   "metadata": {},
   "outputs": [
    {
     "name": "stdout",
     "output_type": "stream",
     "text": [
      "{'Alex': ['I'], 'Sam': ['A'], 'Jamie': ['A', 'I'], 'Taylor': ['E'], 'Chris': ['I']}\n"
     ]
    }
   ],
   "source": [
    "def count_vowel(S):\n",
    "    dic = {'A':0,'E':0,'I':0,'O':0,'U':0}\n",
    "    for i in S:\n",
    "        if i == 'a' or i == 'A':\n",
    "            dic['A'] += 1\n",
    "        elif i == 'e' or i == 'E':\n",
    "            dic['E'] += 1\n",
    "        elif i == 'i' or i == 'I':\n",
    "            dic['I'] += 1\n",
    "        elif i == 'o' or i == 'O':\n",
    "            dic['O'] += 1\n",
    "        elif i == 'u' or i == 'U':\n",
    "            dic['U'] += 1\n",
    "    \n",
    "    x=max(dic.values())\n",
    "    result =[]\n",
    "    for i,j in dic.items():\n",
    "        if j == x:\n",
    "            result.append(i)\n",
    "    \n",
    "    return result\n",
    "\n",
    "\n",
    "\n",
    "i_p = [\n",
    "    [\"Alex\", \"I enjoy hiking in the mountains.\"],\n",
    "    [\"Sam\", \"A lovely sunny day at the beach.\"],\n",
    "    [\"Jamie\", \"Reading a book is my favorite pastime.\"],\n",
    "    [\"Taylor\", \"I love playing video games on weekends.\"],\n",
    "    [\"Chris\", \"Exploring new cities is exciting and fun.\"]\n",
    "]\n",
    "\n",
    "o_p = {}\n",
    "\n",
    "for i in i_p:\n",
    "    o_p[i[0]]= count_vowel(i[1])\n",
    "\n",
    "print(o_p)"
   ]
  },
  {
   "cell_type": "code",
   "execution_count": 3,
   "id": "27e6a031-dee9-4d62-b049-c75e9cb9478d",
   "metadata": {},
   "outputs": [
    {
     "name": "stdout",
     "output_type": "stream",
     "text": [
      "17 4 6 7\n"
     ]
    }
   ],
   "source": [
    "l=[2,4,3,5,6,3,4,6,7,1,2,5]\n",
    "sum = max = 0\n",
    "for i in range(0,len(l)-2):\n",
    "    sum = l[i]+l[i+1]+l[i+2]\n",
    "    if max<sum:\n",
    "        max = sum\n",
    "        pos=i\n",
    "\n",
    "print(max,l[pos],l[pos+1],l[pos+2])"
   ]
  },
  {
   "cell_type": "code",
   "execution_count": 6,
   "id": "b6255f98-f3a6-40ca-8af4-9be97fca548f",
   "metadata": {},
   "outputs": [
    {
     "name": "stdin",
     "output_type": "stream",
     "text": [
      "Enter the no of continious digit:  3\n"
     ]
    },
    {
     "name": "stdout",
     "output_type": "stream",
     "text": [
      "12\n",
      "17\n",
      "4\n",
      "6\n",
      "7\n"
     ]
    }
   ],
   "source": [
    "l=[2,4,3,5,6,3,4,6,7,1,2,5]\n",
    "sum = max = 0\n",
    "k = int(input(\"Enter the no of continious digit: \"))\n",
    "print(len(l))\n",
    "for i in range(0,len(l)-k+1):\n",
    "    sum = 0\n",
    "    for j in range(0,k):\n",
    "        sum+=l[i+j]\n",
    "    if max<sum:\n",
    "        max = sum\n",
    "        pos=i\n",
    "\n",
    "print(max)\n",
    "for j in range(0,k):\n",
    "    print(l[pos+j])"
   ]
  },
  {
   "cell_type": "code",
   "execution_count": 7,
   "id": "2e2f03f0-98e5-4bab-8899-aa028225f1a3",
   "metadata": {},
   "outputs": [
    {
     "name": "stdin",
     "output_type": "stream",
     "text": [
      "Enter the no of continious digit:  5\n"
     ]
    },
    {
     "name": "stdout",
     "output_type": "stream",
     "text": [
      "result\n",
      "40\n",
      "6\n",
      "7\n",
      "9\n",
      "9\n",
      "9\n"
     ]
    }
   ],
   "source": [
    "l=[2,4,3,5,6,3,4,6,7,9,9,9]\n",
    "window = max = 0\n",
    "k = int(input(\"Enter the no of continious digit: \"))\n",
    "\n",
    "for j in range(0,k):\n",
    "        window+=l[j]\n",
    "l.append(0)\n",
    "for i in range(0,len(l)-k):\n",
    "    if max<window:\n",
    "        max=window\n",
    "        pos=i\n",
    "    window = window+l[i+k]-l[i]\n",
    "\n",
    "print(\"result\")\n",
    "print(max)\n",
    "for j in range(0,k):\n",
    "    print(l[pos+j])"
   ]
  },
  {
   "cell_type": "code",
   "execution_count": null,
   "id": "6e7b69f1-bfb7-4eb0-8f8f-ddd2f24b3370",
   "metadata": {},
   "outputs": [],
   "source": []
  }
 ],
 "metadata": {
  "kernelspec": {
   "display_name": "Python 3 (ipykernel)",
   "language": "python",
   "name": "python3"
  },
  "language_info": {
   "codemirror_mode": {
    "name": "ipython",
    "version": 3
   },
   "file_extension": ".py",
   "mimetype": "text/x-python",
   "name": "python",
   "nbconvert_exporter": "python",
   "pygments_lexer": "ipython3",
   "version": "3.11.7"
  }
 },
 "nbformat": 4,
 "nbformat_minor": 5
}
