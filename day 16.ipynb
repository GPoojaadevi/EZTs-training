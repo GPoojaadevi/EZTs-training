{
 "cells": [
  {
   "cell_type": "code",
   "execution_count": 16,
   "id": "ebbf3d20-3626-4789-955c-1616fc85d90f",
   "metadata": {},
   "outputs": [
    {
     "name": "stdout",
     "output_type": "stream",
     "text": [
      "[(0, 1), (0, 2), (0, 3), (1, 4), (2, 1), (2, 4), (3, 2), (3, 5), (4, 5)]\n",
      "{0: 0, 1: inf, 2: inf, 3: inf, 4: inf, 5: inf}\n",
      "{0: 0, 1: 1, 2: 3, 3: 5, 4: 0, 5: 3}\n"
     ]
    }
   ],
   "source": [
    "#sortest distance form singkle source\n",
    "g=[\n",
    "    [0,6,4,5,False,False],\n",
    "    [False,0,False,False,-1,False],\n",
    "    [False,-2,0,False,3,False],\n",
    "    [False,False,-2,0,False,-1],\n",
    "    [False,False,False,False,0,3],\n",
    "    [False,False,False,False,False,0],\n",
    "]\n",
    "#d={0:\"A\",1:\"B\",2:\"C\",3:\"D\",4:\"E\",5:\"F\"}\n",
    "E_L=[]\n",
    "for i in range(len(g)):\n",
    "    for j in range(len(g[i])):\n",
    "        if g[i][j]!=False and g[i][j]!=0:\n",
    "            E_L.append(tuple((i,j)))\n",
    "print(E_L)\n",
    "dist={}\n",
    "for i in range(len(g)):\n",
    "    dist[i]=float(\"inf\")\n",
    "dist[0]=0\n",
    "print(dist)\n",
    "for i in range(len(g)-1):\n",
    "    for j in E_L:\n",
    "        new_dist=dist[j[0]]+g[j[0]][j[1]]\n",
    "        if dist[j[1]]>new_dist:\n",
    "            dist[j[1]]=new_dist\n",
    "print(dist)   "
   ]
  },
  {
   "cell_type": "code",
   "execution_count": 30,
   "id": "1804aaea-8989-4ab9-b8aa-aa3deeb1963d",
   "metadata": {},
   "outputs": [
    {
     "name": "stdout",
     "output_type": "stream",
     "text": [
      "[0, 6, 10, 5, 8, 11, 8, 2, 16, 10]\n"
     ]
    }
   ],
   "source": [
    "G=[\n",
    "    \n",
    "        [0, 7, False, False, False, False, False, 2, False, False],\n",
    "        [7, 0,  4,  1, False,  5, False,False, False, False],\n",
    "        [False, 4, 0, False, False, False, False, 8, False, False],\n",
    "        [False, 1, False, 0,  6,  8,  3, 3, False, False],\n",
    "        [False, False,False, 6,  0, False, False, 6,  8, False],\n",
    "        [False, 5, False, 8, False,  0, False,False, False, False],\n",
    "        [False, False,False, 3, False, False,  0, False, 9,  2],\n",
    "        [2, False, 8,  3,  6, False, False, 0, False, False],\n",
    "        [False,False,False, False,  8, False,  9, False, 0, False],\n",
    "        [False,False,False, False, False, False,  2,  False,False, 0]\n",
    "    \n",
    "]\n",
    "temp={}\n",
    "for i in range(len(G)):\n",
    "    temp[i]=float(\"inf\")\n",
    "dist=[float(\"inf\")]*len(G)\n",
    "temp[0]=0\n",
    "while len(temp)>0:\n",
    "    min_value=min(temp.values())\n",
    "    min_key = min(temp,key=temp.get)\n",
    "    temp.pop(min_key)\n",
    "    dist[min_key]=min_value\n",
    "\n",
    "    for j in range (len(G[min_key])):\n",
    "        if G[min_key][j]!=False and G[min_key][j]!=0:\n",
    "            new_dist= min_value+G[min_key][j]\n",
    "            if j in temp.keys() and temp[j]>new_dist:\n",
    "                temp[j]=new_dist\n",
    "            \n",
    "print(dist)       \n",
    "    "
   ]
  },
  {
   "cell_type": "code",
   "execution_count": 6,
   "id": "c0655702-60b9-4c74-8d87-312c9fc1d214",
   "metadata": {},
   "outputs": [
    {
     "name": "stdout",
     "output_type": "stream",
     "text": [
      "minimum cost= 19\n",
      "(3, (0, 1, 2, 3))\n",
      "(4, (0, 1, 2, 4))\n",
      "(2, (0, 1, 2))\n",
      "(2, (0, 1, 3, 2))\n",
      "(4, (0, 1, 3, 4))\n",
      "(3, (0, 1, 3))\n",
      "(2, (0, 1, 4, 2))\n",
      "(3, (0, 1, 4, 3))\n",
      "(4, (0, 1, 4))\n",
      "(1, (0, 1))\n",
      "(3, (0, 2, 1, 3))\n",
      "(4, (0, 2, 1, 4))\n",
      "(1, (0, 2, 1))\n",
      "(1, (0, 2, 3, 1))\n",
      "(4, (0, 2, 3, 4))\n",
      "(3, (0, 2, 3))\n",
      "(1, (0, 2, 4, 1))\n",
      "(3, (0, 2, 4, 3))\n",
      "(4, (0, 2, 4))\n",
      "(2, (0, 2))\n",
      "(2, (0, 3, 1, 2))\n",
      "(4, (0, 3, 1, 4))\n",
      "(1, (0, 3, 1))\n",
      "(1, (0, 3, 2, 1))\n",
      "(4, (0, 3, 2, 4))\n",
      "(2, (0, 3, 2))\n",
      "(1, (0, 3, 4, 1))\n",
      "(2, (0, 3, 4, 2))\n",
      "(4, (0, 3, 4))\n",
      "(3, (0, 3))\n",
      "(2, (0, 4, 1, 2))\n",
      "(3, (0, 4, 1, 3))\n",
      "(1, (0, 4, 1))\n",
      "(1, (0, 4, 2, 1))\n",
      "(3, (0, 4, 2, 3))\n",
      "(2, (0, 4, 2))\n",
      "(1, (0, 4, 3, 1))\n",
      "(2, (0, 4, 3, 2))\n",
      "(3, (0, 4, 3))\n",
      "(4, (0, 4))\n",
      "(0, (0,))\n"
     ]
    }
   ],
   "source": [
    "import sys\n",
    "def cost(curr,visited,g,DP):\n",
    "    n=len(g)\n",
    "    if len(visited)==n:\n",
    "        return g[curr][0]\n",
    "    visit = tuple(visited)\n",
    "    if (curr,visit)in DP:\n",
    "        return DP[(curr,visit)]\n",
    "    min_cost=sys.maxsize\n",
    "    \n",
    "    for i in range(n):\n",
    "        if i not in visited:\n",
    "            new_visit =visited+[i]\n",
    "            new_cost=g[curr][i]+cost(i,new_visit,g,DP)\n",
    "            min_cost=min(min_cost,new_cost)\n",
    "    DP[(curr,visit)]=min_cost\n",
    "    return min_cost\n",
    "g=[\n",
    "    [0,4,7,5,5],\n",
    "    [4,0,2,3,8],\n",
    "    [7,2,0,3,4],\n",
    "    [5,3,3,0,6],\n",
    "    [5,8,4,6,0]\n",
    "]\n",
    "\n",
    "n=len(g)\n",
    "DP={}\n",
    "print(\"minimum cost=\",cost(0,[0],g,DP))\n",
    "for i in DP:\n",
    "    print(i)\n",
    "\n"
   ]
  },
  {
   "cell_type": "code",
   "execution_count": null,
   "id": "30c8187c-11c8-448e-a06a-1b061409c27b",
   "metadata": {},
   "outputs": [],
   "source": [
    "\n"
   ]
  },
  {
   "cell_type": "code",
   "execution_count": null,
   "id": "1eeec907-a2c2-4d1d-b168-de3fd0909f8f",
   "metadata": {},
   "outputs": [],
   "source": []
  }
 ],
 "metadata": {
  "kernelspec": {
   "display_name": "Python 3 (ipykernel)",
   "language": "python",
   "name": "python3"
  },
  "language_info": {
   "codemirror_mode": {
    "name": "ipython",
    "version": 3
   },
   "file_extension": ".py",
   "mimetype": "text/x-python",
   "name": "python",
   "nbconvert_exporter": "python",
   "pygments_lexer": "ipython3",
   "version": "3.11.7"
  }
 },
 "nbformat": 4,
 "nbformat_minor": 5
}
