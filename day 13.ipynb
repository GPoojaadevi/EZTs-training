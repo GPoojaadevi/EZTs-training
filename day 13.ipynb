{
 "cells": [
  {
   "cell_type": "code",
   "execution_count": 8,
   "id": "ebbf3d20-3626-4789-955c-1616fc85d90f",
   "metadata": {},
   "outputs": [
    {
     "name": "stdout",
     "output_type": "stream",
     "text": [
      "Maximum value in Fractional Knapsack = 51.0\n"
     ]
    }
   ],
   "source": [
    "def knapsack_fractional(weights, values, capacity):\n",
    "    items = sorted(zip(weights, values), key=lambda x: x[1]/x[0], reverse=True)\n",
    "    max_value = 0.0\n",
    "\n",
    "    for weight, value in items:\n",
    "        if capacity >= weight:\n",
    "            capacity -= weight\n",
    "            max_value += value\n",
    "        else:\n",
    "            max_value += value * (capacity / weight)\n",
    "            break\n",
    "\n",
    "    return max_value\n",
    "\n",
    "weights = [1, 3, 5, 4, 1, 3,2]\n",
    "values = [5, 10, 15, 7, 8,9,4]\n",
    "capacity = 15\n",
    "print(\"Maximum value in Fractional Knapsack =\", knapsack_fractional(weights, values, capacity))\n"
   ]
  },
  {
   "cell_type": "code",
   "execution_count": null,
   "id": "b9e6679f-5bcd-40ff-b9e6-0b46ea0194bb",
   "metadata": {},
   "outputs": [],
   "source": []
  }
 ],
 "metadata": {
  "kernelspec": {
   "display_name": "Python 3 (ipykernel)",
   "language": "python",
   "name": "python3"
  },
  "language_info": {
   "codemirror_mode": {
    "name": "ipython",
    "version": 3
   },
   "file_extension": ".py",
   "mimetype": "text/x-python",
   "name": "python",
   "nbconvert_exporter": "python",
   "pygments_lexer": "ipython3",
   "version": "3.11.7"
  }
 },
 "nbformat": 4,
 "nbformat_minor": 5
}
