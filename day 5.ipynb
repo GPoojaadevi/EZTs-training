{
 "cells": [
  {
   "cell_type": "code",
   "execution_count": 2,
   "id": "fc28891e-9e32-4e97-977a-6b23527b8946",
   "metadata": {},
   "outputs": [
    {
     "name": "stdin",
     "output_type": "stream",
     "text": [
      "Enter the message:  5\n"
     ]
    },
    {
     "name": "stdout",
     "output_type": "stream",
     "text": [
      "Valid Messgae\n"
     ]
    }
   ],
   "source": [
    "m = int(input(\"Enter the message: \"))\n",
    "flag = 0\n",
    "if m<1:\n",
    "    flag = 1\n",
    "elif m == 1:\n",
    "    flag = 0\n",
    "else:\n",
    "    for i in range(2,(m//2)+1):\n",
    "        if m%i == 0:\n",
    "            flag = 1\n",
    "            break\n",
    "    \n",
    "if flag == 0:\n",
    "    print(\"Valid Messgae\")\n",
    "else:\n",
    "    print(\"invalid Message\")\n",
    "    "
   ]
  },
  {
   "cell_type": "code",
   "execution_count": 3,
   "id": "a27adf48-e0d9-4947-bbd2-3229c026c8d6",
   "metadata": {},
   "outputs": [
    {
     "name": "stdin",
     "output_type": "stream",
     "text": [
      "Enter the no of terms:  3\n"
     ]
    },
    {
     "name": "stdout",
     "output_type": "stream",
     "text": [
      "0\n",
      "1\n",
      "1\n"
     ]
    }
   ],
   "source": [
    "n= int(input(\"Enter the no of terms: \"))\n",
    "\n",
    "a=0\n",
    "b=1\n",
    "c=a+b\n",
    "if n==1:\n",
    "    print(a)\n",
    "elif n==2:\n",
    "    print(a)\n",
    "    print(b)\n",
    "else:\n",
    "    print(a)\n",
    "    print(b)\n",
    "    for i in range(2,n):\n",
    "        print(c)\n",
    "        a=b\n",
    "        b=c\n",
    "        c=a+b"
   ]
  },
  {
   "cell_type": "code",
   "execution_count": 4,
   "id": "e917553a-188c-4bfd-9b04-eee8206809eb",
   "metadata": {},
   "outputs": [
    {
     "name": "stdin",
     "output_type": "stream",
     "text": [
      " 5\n"
     ]
    },
    {
     "name": "stdout",
     "output_type": "stream",
     "text": [
      "(7, 6, False)\n"
     ]
    }
   ],
   "source": [
    "def check_prime(m):\n",
    "    flag = 0\n",
    "    if m<1:\n",
    "        flag = 1\n",
    "    elif m == 1:\n",
    "        flag = 0\n",
    "    else:\n",
    "        for i in range(2,(m//2)+1):\n",
    "            if m%i == 0:\n",
    "                flag = 1\n",
    "                break\n",
    "    \n",
    "    if flag == 0:\n",
    "        return 1\n",
    "    else:\n",
    "        return 0\n",
    "\n",
    "result=[]\n",
    "N=int(input())\n",
    "flag=0\n",
    "k=N+1\n",
    "while flag<1:\n",
    "    flag = check_prime(k)\n",
    "    if flag == 1:\n",
    "        result.append(k)\n",
    "    else:\n",
    "        k=k+1\n",
    "\n",
    "sum = 0\n",
    "for i in range (N+1,k):\n",
    "    sum+=i\n",
    "\n",
    "result.append(sum)\n",
    "\n",
    "\n",
    "\n",
    "p1=k\n",
    "flag=0\n",
    "k=p1+1\n",
    "while flag<1:\n",
    "    flag = check_prime(k)\n",
    "    if flag == 1:\n",
    "        p2=k\n",
    "    else:\n",
    "        k=k+1\n",
    "\n",
    "p3=p1*p2\n",
    "flag=check_prime(p3)\n",
    "if flag == 0:\n",
    "    result.append(False)\n",
    "else:\n",
    "    result.append(True)\n",
    "\n",
    "Prime_key=tuple(result)\n",
    "\n",
    "print(Prime_key)"
   ]
  },
  {
   "cell_type": "code",
   "execution_count": null,
   "id": "dee38560-e478-4a5c-843e-1e49708175e1",
   "metadata": {},
   "outputs": [],
   "source": []
  }
 ],
 "metadata": {
  "kernelspec": {
   "display_name": "Python 3 (ipykernel)",
   "language": "python",
   "name": "python3"
  },
  "language_info": {
   "codemirror_mode": {
    "name": "ipython",
    "version": 3
   },
   "file_extension": ".py",
   "mimetype": "text/x-python",
   "name": "python",
   "nbconvert_exporter": "python",
   "pygments_lexer": "ipython3",
   "version": "3.11.7"
  }
 },
 "nbformat": 4,
 "nbformat_minor": 5
}
