{
 "cells": [
  {
   "cell_type": "code",
   "execution_count": 6,
   "id": "ebbf3d20-3626-4789-955c-1616fc85d90f",
   "metadata": {},
   "outputs": [
    {
     "name": "stdout",
     "output_type": "stream",
     "text": [
      "{0: 5.0, 1: 3.3333333333333335, 2: 3.0, 3: 1.75, 4: 8.0, 5: 3.0, 6: 2.0}\n",
      "[(0, 5.0), (1, 3.3333333333333335), (2, 3.0), (3, 1.75), (4, 8.0), (5, 3.0), (6, 2.0)]\n",
      "3.0\n",
      "sorting using lambda function [(4, 8.0), (0, 5.0), (1, 3.3333333333333335), (2, 3.0), (5, 3.0), (6, 2.0), (3, 1.75)]\n",
      "[(4, 8.0), (0, 5.0), (1, 3.3333333333333335), (2, 3.0), (5, 3.0), (6, 2.0), (3, 1.75)]\n"
     ]
    }
   ],
   "source": [
    "P=[5,10,15,7,8,9,4]\n",
    "W=[1,3,5,4,1,3,2]\n",
    "P_W={}\n",
    "for i in range(len(P)):\n",
    "    P_W[i]=P[i]/W[i]\n",
    "print(P_W)\n",
    "L=list(P_W.items())\n",
    "print(L)\n",
    "n=len(L)\n",
    "\n",
    "B= lambda x:L[x][1]\n",
    "print(B(2))\n",
    "sorted_list= sorted(L, key=lambda x: x[1],reverse=True)\n",
    "print(\"sorting using lambda function\", sorted_list)\n",
    "\n",
    "L.sort(key=lambda x:x[1], reverse=True)\n",
    "\n",
    "print(L)\n",
    "sorted_PW={}\n",
    "for i in L:\n",
    "    sorted_PW[i[0]]=i[1]\n",
    "    "
   ]
  },
  {
   "cell_type": "code",
   "execution_count": 6,
   "id": "aa97e379-5c9d-4a86-bddd-9576d7407060",
   "metadata": {},
   "outputs": [
    {
     "data": {
      "text/plain": [
       "51"
      ]
     },
     "execution_count": 6,
     "metadata": {},
     "output_type": "execute_result"
    }
   ],
   "source": [
    "# using recursion for top down aproach\n",
    "def calc_max(P,W,C,n):\n",
    "    if n==0 or C==0:\n",
    "        return 0\n",
    "    if (W[n-1]>C):\n",
    "        return  calc_max(P,W,C,n-1)\n",
    "    else:\n",
    "        return max(P[n-1]+calc_max(P,W,C-W[n-1],n-1),calc_max(P,W,C,n-1))\n",
    "\n",
    "P=[5,10,15,7,8,9,4]\n",
    "W=[1,3,5,4,1,3,2]\n",
    "C=15\n",
    "n=len(P)\n",
    "calc_max(P,W,C,n)"
   ]
  },
  {
   "cell_type": "code",
   "execution_count": 2,
   "id": "c81c8db0-542a-4294-90c5-ee9fa74c6771",
   "metadata": {},
   "outputs": [
    {
     "name": "stdout",
     "output_type": "stream",
     "text": [
      "[[-1, -1, -1, -1, -1, -1, -1, -1, -1, -1, -1, -1, -1, -1, -1, -1], [-1, -1, -1, -1, -1, -1, -1, -1, -1, -1, -1, -1, -1, -1, -1, -1], [-1, -1, -1, -1, -1, -1, -1, -1, -1, -1, -1, -1, -1, -1, -1, -1], [-1, -1, -1, -1, -1, -1, -1, -1, -1, -1, -1, -1, -1, -1, -1, -1], [-1, -1, -1, -1, -1, -1, -1, -1, -1, -1, -1, -1, -1, -1, -1, -1], [-1, -1, -1, -1, -1, -1, -1, -1, -1, -1, -1, -1, -1, -1, -1, -1], [-1, -1, -1, -1, -1, -1, -1, -1, -1, -1, -1, -1, -1, -1, -1, -1], [-1, -1, -1, -1, -1, -1, -1, -1, -1, -1, -1, -1, -1, -1, -1, -1]]\n"
     ]
    },
    {
     "data": {
      "text/plain": [
       "51"
      ]
     },
     "execution_count": 2,
     "metadata": {},
     "output_type": "execute_result"
    }
   ],
   "source": [
    "#recursion + data storing\n",
    "def calc_max(P,W,C,n):\n",
    "    if n==0 or C==0:\n",
    "        return 0\n",
    "    if (W[n-1]>C):\n",
    "        return  calc_max(P,W,C,n-1)\n",
    "    else:\n",
    "        return max(P[n-1]+calc_max(P,W,C-W[n-1],n-1),calc_max(P,W,C,n-1))\n",
    "\n",
    "P=[5,10,15,7,8,9,4]\n",
    "W=[1,3,5,4,1,3,2]\n",
    "C=15\n",
    "n=len(P)\n",
    "DP=[[-1 for i in range (C+1)] for j in range(n+1)]\n",
    "print(DP)\n",
    "calc_max(P,W,C,n)"
   ]
  },
  {
   "cell_type": "code",
   "execution_count": null,
   "id": "e5f814bf-ce5c-430b-afd8-f4dc23424d55",
   "metadata": {},
   "outputs": [],
   "source": []
  },
  {
   "cell_type": "code",
   "execution_count": null,
   "id": "208da244-e17d-4cf0-81f5-a7ad9f9093ce",
   "metadata": {},
   "outputs": [],
   "source": []
  }
 ],
 "metadata": {
  "kernelspec": {
   "display_name": "Python 3 (ipykernel)",
   "language": "python",
   "name": "python3"
  },
  "language_info": {
   "codemirror_mode": {
    "name": "ipython",
    "version": 3
   },
   "file_extension": ".py",
   "mimetype": "text/x-python",
   "name": "python",
   "nbconvert_exporter": "python",
   "pygments_lexer": "ipython3",
   "version": "3.11.7"
  }
 },
 "nbformat": 4,
 "nbformat_minor": 5
}
