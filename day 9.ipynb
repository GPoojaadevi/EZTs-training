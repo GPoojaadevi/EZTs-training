{
 "cells": [
  {
   "cell_type": "markdown",
   "id": "d9fad806-b64f-4647-8374-a5f1d79868d9",
   "metadata": {},
   "source": [
    "# tree\n"
   ]
  },
  {
   "cell_type": "code",
   "execution_count": 1,
   "id": "ef42298d-e05b-45c3-aeed-8284c058fc03",
   "metadata": {},
   "outputs": [
    {
     "name": "stdout",
     "output_type": "stream",
     "text": [
      "1\n",
      "2\n",
      "4\n",
      "5\n",
      "3\n",
      "6\n",
      "7\n"
     ]
    }
   ],
   "source": [
    "class node:\n",
    "    def __init__(self,data):\n",
    "        self.value=data\n",
    "        self.left=None\n",
    "        self.right=None\n",
    "\n",
    "def preorder(root):\n",
    "    if root==None:\n",
    "        return\n",
    "    print(root.value)\n",
    "    preorder(root.left)\n",
    "    preorder(root.right)\n",
    "\n",
    "if __name__==\"__main__\":\n",
    "    root = node(1)\n",
    "    root.left=node(2)\n",
    "    root.right=node(3)\n",
    "    \n",
    "    root.left.left=node(4)\n",
    "    root.left.right=node(5)\n",
    "    \n",
    "    root.right.left=node(6)\n",
    "    root.right.right=node(7)\n",
    "preorder(root)"
   ]
  },
  {
   "cell_type": "code",
   "execution_count": 1,
   "id": "86eb44bc-3efc-4c18-861c-e6e3d1246acb",
   "metadata": {},
   "outputs": [
    {
     "name": "stdout",
     "output_type": "stream",
     "text": [
      "1 \n",
      "2 3 \n",
      "4 5 6 7 \n",
      "9 10 11 \n",
      "12 13 "
     ]
    }
   ],
   "source": [
    "class node:\n",
    "    def __init__(self,data):\n",
    "        self.value=data\n",
    "        self.left=None\n",
    "        self.right=None\n",
    "\n",
    "def levelorder(root):\n",
    "    Q=[root]\n",
    "    Q.append(None)\n",
    "    while len(Q)>0:\n",
    "        curr=Q.pop(0)\n",
    "\n",
    "        if curr==None:\n",
    "            if len(Q)==0:\n",
    "                break\n",
    "            else:\n",
    "                print()\n",
    "                Q.append(None)\n",
    "        else:\n",
    "            print(curr.value,end=\" \")\n",
    "            if curr.left !=None:\n",
    "                Q.append(curr.left)\n",
    "            if curr.right !=None:\n",
    "                Q.append(curr.right)\n",
    "                    \n",
    "        \n",
    "\n",
    "if __name__==\"__main__\":\n",
    "    root = node(1)\n",
    "    root.left=node(2)\n",
    "    root.right=node(3)\n",
    "    \n",
    "    root.left.left=node(4)\n",
    "    root.left.right=node(5)\n",
    "    \n",
    "    root.right.left=node(6)\n",
    "    root.right.right=node(7)\n",
    "\n",
    "    root.left.right.left=node(9)\n",
    "    root.left.right.right=node(10)\n",
    "    \n",
    "    root.right.right.right=node(11)\n",
    "    \n",
    "\n",
    "    root.left.right.left.left=node(12)\n",
    "    root.left.right.left.right=node(13)\n",
    "\n",
    "levelorder(root)"
   ]
  },
  {
   "cell_type": "code",
   "execution_count": 2,
   "id": "8057f160-0792-4152-a4b7-df12da423f0b",
   "metadata": {},
   "outputs": [
    {
     "data": {
      "text/plain": [
       "7"
      ]
     },
     "execution_count": 2,
     "metadata": {},
     "output_type": "execute_result"
    }
   ],
   "source": [
    "def Height(root):\n",
    "    if root == None:\n",
    "        return 0\n",
    "    LH= Height(root.left)\n",
    "    RH= Height(root.right)\n",
    "    return max(LH,RH)+1\n",
    "\n",
    "if __name__==\"__main__\":\n",
    "    root = node(1)\n",
    "    root.left=node(2)\n",
    "    root.right=node(5)\n",
    "    \n",
    "    root.left.left=node(3)\n",
    "    root.left.right=node(4)\n",
    "    \n",
    "    \n",
    "    root.right.right=node(6)\n",
    "\n",
    "    \n",
    "    root.right.right.right=node(8)\n",
    "    root.right.right.left=node(7)\n",
    "\n",
    "    root.right.right.left.right=node(11)\n",
    "\n",
    "    root.right.right.left.right.left=node(12)\n",
    "    root.right.right.left.right.left.right=node(13)\n",
    "\n",
    "    root.left.right.left=node(9)\n",
    "    root.left.right.left.right=node(10)\n",
    "\n",
    "    root.left.right.left.right.left=node(14)\n",
    "\n",
    "    \n",
    "Height(root)"
   ]
  },
  {
   "cell_type": "code",
   "execution_count": 3,
   "id": "87619b12-a809-4129-a5d8-7cd249042b79",
   "metadata": {},
   "outputs": [
    {
     "name": "stdout",
     "output_type": "stream",
     "text": [
      "3\n",
      "2\n",
      "1\n",
      "5\n",
      "6\n",
      "8\n",
      "{0: 1, -1: 2, 1: 5, -2: 3, 2: 6, 3: 8}\n"
     ]
    }
   ],
   "source": [
    "#VIEW\n",
    "#Top view \n",
    "\n",
    "class node_data:\n",
    "    def __init__(self,Node,HKey):\n",
    "        self.node=Node\n",
    "        self.hkey=HKey\n",
    "\n",
    "def topview(root):        \n",
    "    temp=node_data(root,0) \n",
    "    Q=[temp]\n",
    "    Q.append(None)\n",
    "    Key_Dict = {}\n",
    "    while len(Q) != 0:\n",
    "        curr = Q.pop(0)\n",
    "        \n",
    "        if curr == None:\n",
    "            if len(Q) == 0:\n",
    "                break\n",
    "            else:\n",
    "                Q.append(None)\n",
    "        else:\n",
    "            if curr.hkey not in Key_Dict.keys():\n",
    "                Key_Dict[curr.hkey] = curr.node.value\n",
    "            \n",
    "            if curr.node.left != None:\n",
    "                temp = node_data(curr.node.left,curr.hkey-1)\n",
    "                Q.append(temp)\n",
    "            \n",
    "            if curr.node.right != None:\n",
    "                temp = node_data(curr.node.right,curr.hkey+1)\n",
    "                Q.append(temp)\n",
    "    for i in sorted(Key_Dict):\n",
    "        print(Key_Dict[i])\n",
    "    print(Key_Dict)\n",
    "topview(root)"
   ]
  },
  {
   "cell_type": "code",
   "execution_count": 5,
   "id": "69048293-9e51-4c02-9c26-d750751bf796",
   "metadata": {},
   "outputs": [
    {
     "name": "stdout",
     "output_type": "stream",
     "text": [
      "3\n",
      "14\n",
      "10\n",
      "12\n",
      "13\n",
      "8\n",
      "{0: 10, -1: 14, 1: 12, -2: 3, 2: 13, 3: 8}\n"
     ]
    }
   ],
   "source": [
    "#VIEW\n",
    "#bottom view \n",
    "\n",
    "class node_data:\n",
    "    def __init__(self,Node,HKey):\n",
    "        self.node=Node\n",
    "        self.hkey=HKey\n",
    "\n",
    "def bottomview(root):        \n",
    "    temp=node_data(root,0) \n",
    "    Q=[temp]\n",
    "    Q.append(None)\n",
    "    Key_Dict = {}\n",
    "    while len(Q) != 0:\n",
    "        curr = Q.pop(0)\n",
    "        \n",
    "        if curr == None:\n",
    "            if len(Q) == 0:\n",
    "                break\n",
    "            else:\n",
    "                Q.append(None)\n",
    "        else:\n",
    "            #if curr.hkey not in Key_Dict.keys():\n",
    "            Key_Dict[curr.hkey] = curr.node.value\n",
    "            \n",
    "            if curr.node.left != None:\n",
    "                temp = node_data(curr.node.left,curr.hkey-1)\n",
    "                Q.append(temp)\n",
    "            \n",
    "            if curr.node.right != None:\n",
    "                temp = node_data(curr.node.right,curr.hkey+1)\n",
    "                Q.append(temp)\n",
    "    for i in sorted(Key_Dict):\n",
    "        print(Key_Dict[i])\n",
    "    print(Key_Dict)\n",
    "bottomview(root)"
   ]
  },
  {
   "cell_type": "code",
   "execution_count": 12,
   "id": "fafe3fcb-8814-4544-8fd0-6ff27ac63fc9",
   "metadata": {},
   "outputs": [
    {
     "name": "stdout",
     "output_type": "stream",
     "text": [
      "1\n",
      "2\n",
      "4\n",
      "9\n",
      "12\n"
     ]
    }
   ],
   "source": [
    "#left view\n",
    "\n",
    "class node:\n",
    "    def __init__(self,data):\n",
    "        self.value=data\n",
    "        self.left=None\n",
    "        self.right=None\n",
    "\n",
    "def leftview(root):\n",
    "    Q=[root]\n",
    "    Q.append(None)\n",
    "    while len(Q)>0:\n",
    "        curr=Q.pop(0)\n",
    "\n",
    "        if curr==None:\n",
    "            if len(Q)==0:\n",
    "                break\n",
    "            else:\n",
    "                print(Q[0].value)\n",
    "                Q.append(None)\n",
    "        else:\n",
    "            #print(curr.value,end=\" \")\n",
    "            if curr.left !=None:\n",
    "                Q.append(curr.left)\n",
    "            if curr.right !=None:\n",
    "                Q.append(curr.right)\n",
    "                    \n",
    "        \n",
    "\n",
    "if __name__==\"__main__\":\n",
    "    root = node(1)\n",
    "    root.left=node(2)\n",
    "    root.right=node(3)\n",
    "    \n",
    "    root.left.left=node(4)\n",
    "    root.left.right=node(5)\n",
    "    \n",
    "    root.right.left=node(6)\n",
    "    root.right.right=node(7)\n",
    "\n",
    "    root.left.right.left=node(9)\n",
    "    root.left.right.right=node(10)\n",
    "    \n",
    "    root.right.right.right=node(11)\n",
    "    \n",
    "\n",
    "    root.left.right.left.left=node(12)\n",
    "    root.left.right.left.right=node(13)\n",
    "    print(root.value)\n",
    "\n",
    "leftview(root)"
   ]
  },
  {
   "cell_type": "code",
   "execution_count": null,
   "id": "889a5993-04ec-4234-9e0a-0db066fef843",
   "metadata": {},
   "outputs": [],
   "source": []
  },
  {
   "cell_type": "code",
   "execution_count": null,
   "id": "53e5392d-7be7-47c6-b0b5-a9b8e42edd1b",
   "metadata": {},
   "outputs": [],
   "source": []
  }
 ],
 "metadata": {
  "kernelspec": {
   "display_name": "Python 3 (ipykernel)",
   "language": "python",
   "name": "python3"
  },
  "language_info": {
   "codemirror_mode": {
    "name": "ipython",
    "version": 3
   },
   "file_extension": ".py",
   "mimetype": "text/x-python",
   "name": "python",
   "nbconvert_exporter": "python",
   "pygments_lexer": "ipython3",
   "version": "3.11.7"
  }
 },
 "nbformat": 4,
 "nbformat_minor": 5
}
