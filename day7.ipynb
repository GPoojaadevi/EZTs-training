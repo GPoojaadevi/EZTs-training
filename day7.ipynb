{
 "cells": [
  {
   "cell_type": "code",
   "execution_count": 3,
   "id": "6aef87ab-b45e-4a8d-98f7-a43dc99a9855",
   "metadata": {},
   "outputs": [
    {
     "name": "stdout",
     "output_type": "stream",
     "text": [
      "[10, 40, 30, 20]\n",
      "[10, 40, 30]\n"
     ]
    }
   ],
   "source": [
    "class Stack:\n",
    "    def __init__(self):\n",
    "        self.items=[]\n",
    "    def push(self,data):\n",
    "        self.items.append(data)\n",
    "    def pop(self):\n",
    "        return self.items.pop()\n",
    "st=Stack()\n",
    "st.push(10)\n",
    "st.push(40)\n",
    "st.push(30)\n",
    "st.push(20)\n",
    "print(st.items)\n",
    "st.pop()\n",
    "print(st.items)"
   ]
  },
  {
   "cell_type": "code",
   "execution_count": 4,
   "id": "feeee09d-9d63-4458-bbd3-ede489d98a9c",
   "metadata": {},
   "outputs": [
    {
     "name": "stdout",
     "output_type": "stream",
     "text": [
      "valid\n"
     ]
    }
   ],
   "source": [
    "e=\"[3+7{52/11(3+5)}]\"\n",
    "S=Stack()\n",
    "ob=\"[{(\"\n",
    "cb=\"]})\"\n",
    "flag=0\n",
    "for i in e:\n",
    "    if i in ob:\n",
    "        S.push(i)\n",
    "    if i in cb:\n",
    "        x=S.pop()\n",
    "        if x==\"(\" and i==\")\":\n",
    "            pass\n",
    "        elif x==\"{\" and i==\"}\":\n",
    "            pass\n",
    "        elif x==\"(\" and i==\")\":\n",
    "            pass\n",
    "        else:\n",
    "            flag==1\n",
    "if flag==0 :\n",
    "    print(\"valid\")\n",
    "else:\n",
    "    print(\"invalid\")"
   ]
  },
  {
   "cell_type": "code",
   "execution_count": 7,
   "id": "6f5424d2-4f85-4264-9034-6c89170fd4f5",
   "metadata": {},
   "outputs": [
    {
     "name": "stdout",
     "output_type": "stream",
     "text": [
      "valid\n"
     ]
    }
   ],
   "source": [
    "e=\"[3+7{52/11(3+5)}]\"\n",
    "S=Stack()\n",
    "ob=\"[{(\"\n",
    "cb=\"]})\"\n",
    "flag=0\n",
    "for i in e:\n",
    "    if i in ob:\n",
    "        S.push(i)\n",
    "    if i in cb:\n",
    "        x=S.pop()\n",
    "        if x==\"(\" and i==\")\":\n",
    "            pass\n",
    "        elif x==\"{\" and i==\"}\":\n",
    "            pass\n",
    "        elif x==\"(\" and i==\")\":\n",
    "            pass\n",
    "        else:\n",
    "            flag==1\n",
    "if flag==0 :\n",
    "    print(\"valid\")\n",
    "    \n",
    "else:\n",
    "    print(\"invalid\")\n",
    "\n"
   ]
  },
  {
   "cell_type": "code",
   "execution_count": 14,
   "id": "3d74f4ce-10ef-43a0-8017-fc860f0bcdb5",
   "metadata": {},
   "outputs": [
    {
     "name": "stdout",
     "output_type": "stream",
     "text": [
      "[10, 40, 30, 20]\n",
      "[40, 30, 20]\n"
     ]
    }
   ],
   "source": [
    "\n",
    "class Queue:\n",
    "    def __init__(self):\n",
    "        self.item=[]\n",
    "    def push (self,data):\n",
    "        self.item.append(data)\n",
    "    def pop(self):\n",
    "        return self.item.pop(0)\n",
    "    def size (self):\n",
    "        return len(self.item)\n",
    "st=Queue()\n",
    "st.push(10)\n",
    "st.push(40)\n",
    "st.push(30)\n",
    "st.push(20)\n",
    "print(st.item)\n",
    "st.pop()\n",
    "print(st.item)       \n",
    "    "
   ]
  },
  {
   "cell_type": "code",
   "execution_count": 10,
   "id": "e8d660cc-204d-4889-821e-d4dd62a915dc",
   "metadata": {},
   "outputs": [
    {
     "name": "stdout",
     "output_type": "stream",
     "text": [
      "[5, 14, 14, -1, 7, 7, 9, -1, 6, 9, -1, 5, 5, -1, -1]\n"
     ]
    }
   ],
   "source": [
    "class Stack:\n",
    "    def __init__(self):\n",
    "        self.items = []\n",
    "    def push(self,data):\n",
    "        self.items.append(data)\n",
    "    def pop(self):\n",
    "        return self.items.pop()\n",
    "    def size(self):\n",
    "        return len(self.items)\n",
    "    def top(self):\n",
    "        return self.items[-1]\n",
    "\n",
    "        \n",
    "L= [3,5,2,14,5,3,7,9,4,6,9,4,2,5,3]\n",
    "O=[0]*len(L)\n",
    "s= Stack()\n",
    "for i in range(len(L)-1,-1,-1):\n",
    "    if s.size() != 0:\n",
    "        while s.size() !=0 and s.top()<=L[i]:\n",
    "            if s.top() <= L[i]:\n",
    "                s.pop()\n",
    "    if s.size() == 0:\n",
    "        O[i]=-1\n",
    "    else:\n",
    "        O[i]=s.top()\n",
    "    s.push(L[i])\n",
    "print(O)\n"
   ]
  },
  {
   "cell_type": "code",
   "execution_count": 5,
   "id": "470ffd7d-5cf8-468e-b796-f86da9e084bb",
   "metadata": {},
   "outputs": [
    {
     "name": "stdout",
     "output_type": "stream",
     "text": [
      "10\n",
      "<__main__.Node object at 0x00000168BB81AE50>\n",
      "<__main__.Node object at 0x00000168BB81AE50>\n"
     ]
    }
   ],
   "source": [
    "#link list\n",
    "class Node:\n",
    "       def __init__(self,data):\n",
    "           self.value=data\n",
    "           self.next=None\n",
    "Head=Tail=Node(10)\n",
    "Tail.next=Node(20)\n",
    "Tail=Tail.next\n",
    "Tail.next=Node(30)\n",
    "Tail=Tail.next\n",
    "Tail.next=Node(40)\n",
    "Tail=Tail.next\n",
    "\n",
    "print(Head.value)\n",
    "print(Tail)\n",
    "print(Head.next.next.next)\n",
    "\n",
    "\n"
   ]
  },
  {
   "cell_type": "code",
   "execution_count": 10,
   "id": "8e5e2669-634a-4286-8f17-c9dc4a74e775",
   "metadata": {},
   "outputs": [
    {
     "name": "stdout",
     "output_type": "stream",
     "text": [
      "10\n",
      "20\n",
      "30\n",
      "40\n"
     ]
    }
   ],
   "source": [
    "def print_link_list(Head):\n",
    "   if Head == None:\n",
    "    print(\"list is empty\")\n",
    "    return\n",
    "   curr=Head\n",
    "   while curr !=None:\n",
    "       print(curr.value)\n",
    "       curr=curr.next\n",
    "print_link_list(Head)"
   ]
  },
  {
   "cell_type": "code",
   "execution_count": 13,
   "id": "89a0a4d3-7478-47a6-90d9-438476a864b8",
   "metadata": {},
   "outputs": [
    {
     "name": "stdout",
     "output_type": "stream",
     "text": [
      "20\n",
      "30\n",
      "40\n"
     ]
    }
   ],
   "source": [
    "#delete \n",
    "def delete_s(Head):\n",
    "    Head = Head.next\n",
    "    return print_link_list(Head)\n",
    "delete_s(Head)"
   ]
  },
  {
   "cell_type": "code",
   "execution_count": 20,
   "id": "5aa88a7c-f0ba-4dae-b55a-d8895c77d0f8",
   "metadata": {},
   "outputs": [
    {
     "name": "stdin",
     "output_type": "stream",
     "text": [
      "Enter an expression   2+6\n"
     ]
    },
    {
     "name": "stdout",
     "output_type": "stream",
     "text": [
      "The result is: 8.0\n"
     ]
    }
   ],
   "source": [
    "s = input(\"Enter an expression  \")\n",
    "op = ['+', '-', '*', '/']\n",
    "for i in s:\n",
    "    if i in op:\n",
    "        x = i  \n",
    "        s = s.replace(i, \" \")\n",
    "L = list(map(float, s.split()))\n",
    "match x:\n",
    "    case '+':\n",
    "        result = L[0] + L[1]\n",
    "    case '-':\n",
    "        result = L[0] - L[1]\n",
    "    case '*':\n",
    "        result = L[0] * L[1]\n",
    "    case '/':\n",
    "        result = L[0] / L[1]\n",
    "    case _:\n",
    "        result = None  \n",
    "if result is not None:\n",
    "    print(f\"The result is: {result}\")\n",
    "else:\n",
    "    print(\"Invalid operator.\")"
   ]
  },
  {
   "cell_type": "code",
   "execution_count": null,
   "id": "28c6e0f6-ff42-4344-bf60-cf2889c620b5",
   "metadata": {},
   "outputs": [],
   "source": []
  },
  {
   "cell_type": "code",
   "execution_count": null,
   "id": "b75fb03d-fdf0-45d8-8a9e-7dc5d7d9c73d",
   "metadata": {},
   "outputs": [],
   "source": []
  }
 ],
 "metadata": {
  "kernelspec": {
   "display_name": "Python 3 (ipykernel)",
   "language": "python",
   "name": "python3"
  },
  "language_info": {
   "codemirror_mode": {
    "name": "ipython",
    "version": 3
   },
   "file_extension": ".py",
   "mimetype": "text/x-python",
   "name": "python",
   "nbconvert_exporter": "python",
   "pygments_lexer": "ipython3",
   "version": "3.11.7"
  }
 },
 "nbformat": 4,
 "nbformat_minor": 5
}
